{
 "cells": [
  {
   "cell_type": "code",
   "execution_count": 5,
   "metadata": {
    "collapsed": false,
    "deletable": true,
    "editable": true
   },
   "outputs": [],
   "source": [
    "import numpy as np\n",
    "import tensorflow as tf\n",
    "import tqdm, os\n",
    "import matplotlib.pyplot as plt\n",
    "%matplotlib inline\n",
    "import IPython.display as displayer\n",
    "import math\n",
    "\n",
    "\n",
    "class Config(object):\n",
    "    pass\n",
    "config = Config()\n",
    "config.batch_size = 128\n",
    "config.use_float16 = False\n",
    "config.data_path_dir = \"../../datasets/cifar-10-batches-bin\"\n",
    "config.BN_epsilon = 1e-5\n",
    "config.BN_decay = 0.995"
   ]
  },
  {
   "cell_type": "code",
   "execution_count": 6,
   "metadata": {
    "collapsed": false,
    "deletable": true,
    "editable": true
   },
   "outputs": [],
   "source": [
    "class Dataset():\n",
    "    def __init__(self, batch_size = config.batch_size):\n",
    "        self.width = 32\n",
    "        self.height = 32\n",
    "        self.depth = 3\n",
    "        self.x_train, self.y_train = None, None\n",
    "        self.x_test, self.y_test = None, None\n",
    "        self.batch_size = batch_size\n",
    "        self.num_classes = 10\n",
    "        \n",
    "    def readData(self, path, is_one_hot = True):\n",
    "        y_train, y_test = None, None\n",
    "        for i in range(1, 6):\n",
    "            with open(os.path.join(path, \"data_batch_%d.bin\" %i), mode='rb') as file:\n",
    "                t = np.fromfile(file, dtype = np.uint8).reshape(10000, -1)\n",
    "                file.close()\n",
    "                y = t[:, 0]\n",
    "                x = t[:, 1:] / 255\n",
    "                if self.x_train is None: self.x_train = x\n",
    "                else: self.x_train = np.concatenate((self.x_train, x))\n",
    "\n",
    "                if y_train is None: y_train = y\n",
    "                else: y_train = np.concatenate((y_train, y))\n",
    "        \n",
    "        self.start_batch_index = self.end_batch_index = self.num_train_images = np.shape(y_train)[0]\n",
    "        \n",
    "        with open(os.path.join(path, \"test_batch.bin\"), mode='rb') as file:\n",
    "            t = np.fromfile(file, dtype = np.uint8).reshape(10000, -1)\n",
    "            y_test = t[:, 0]\n",
    "            self.x_test = t[:, 1:] / 255\n",
    "        \n",
    "        ## change labels to one-hot type:\n",
    "        if is_one_hot:\n",
    "            self.y_train = np.zeros((self.num_train_images, self.num_classes))\n",
    "            self.y_train[np.arange(self.num_train_images), y_train] = 1\n",
    "            self.y_test = np.zeros((10000, self.num_classes))\n",
    "            self.y_test[np.arange(10000), y_test] = 1\n",
    "        else:\n",
    "            self.y_train = y_train#.reshape(np.shape(y_train)[0], 1)\n",
    "            self.y_test = y_test#.reshape(np.shape(y_test)[0], 1)\n",
    "        \n",
    "    def get_next_batch(self):\n",
    "        if self.end_batch_index >= self.num_train_images:\n",
    "            #suffle\n",
    "            self.suffle()\n",
    "            self.start_batch_index = 0\n",
    "            self.end_batch_index = self.batch_size\n",
    "        \n",
    "        batch_x = self.x_train[self.start_batch_index : self.end_batch_index].astype(\n",
    "            np.float16 if config.use_float16 else np.float32)\n",
    "        batch_y = self.y_train[self.start_batch_index : self.end_batch_index]\n",
    "        self.start_batch_index = self.end_batch_index\n",
    "        self.end_batch_index += self.batch_size\n",
    "        \n",
    "        return (batch_x, batch_y)\n",
    "    \n",
    "    \n",
    "    def suffle(self, is_training = True):\n",
    "        if is_training:\n",
    "            perm = np.random.permutation(self.num_train_images)\n",
    "            self.x_train = self.x_train[perm]\n",
    "            self.y_train = self.y_train[perm]\n",
    "        else:\n",
    "            perm = np.random.permutation(10000)\n",
    "            self.x_test = self.x_test[perm]\n",
    "            self.y_test = self.y_test[perm]\n",
    "            \n",
    "            \n",
    "dataset = Dataset()\n",
    "dataset.readData(config.data_path_dir, is_one_hot = False)"
   ]
  },
  {
   "cell_type": "code",
   "execution_count": 7,
   "metadata": {
    "collapsed": false,
    "deletable": true,
    "editable": true
   },
   "outputs": [],
   "source": [
    "def batch_norm_wrapper(x, is_training, step):\n",
    "    \"\"\"\n",
    "    is_training: a boolean tensor\n",
    "    \"\"\"\n",
    "    with tf.variable_scope('batch_norm') as scope:\n",
    "        gamma = tf.Variable(tf.ones([x.get_shape()[-1]]), trainable = True)\n",
    "        beta  = tf.Variable(tf.zeros([x.get_shape()[-1]]), trainable = False)\n",
    "        pop_mean = tf.Variable(tf.zeros([x.get_shape()[-1]]), trainable=False, name = \"pop_mean\")\n",
    "        pop_var  = tf.Variable(tf.ones([x.get_shape()[-1]]), trainable=False, name = \"pop_var\")\n",
    "\n",
    "    def using_batch_statistics():\n",
    "        batch_mean, batch_var = tf.nn.moments(x,[0])\n",
    "        train_mean = tf.assign(pop_mean,\n",
    "                               pop_mean * config.BN_decay + batch_mean * (1 - config.BN_decay))\n",
    "        train_var = tf.assign(pop_var,\n",
    "                              pop_var * config.BN_decay + batch_var * (1 - config.BN_decay))\n",
    "\n",
    "        with tf.control_dependencies([train_mean, train_var]):\n",
    "            return tf.nn.batch_normalization(x,\n",
    "                batch_mean, batch_var, beta, gamma, config.BN_epsilon)\n",
    "                       \n",
    "        \n",
    "    def using_global_statistics():\n",
    "        return tf.nn.batch_normalization(x,\n",
    "            pop_mean, pop_var, beta, gamma, config.BN_epsilon)\n",
    "    \n",
    "    return tf.cond(is_training, \n",
    "                   using_batch_statistics, \n",
    "                   using_global_statistics)\n",
    "\n",
    "def variable_on_gpu(name, shape, initializer):\n",
    "    with tf.device('/gpu:0'):\n",
    "        dtype = tf.float16 if config.use_float16 else tf.float32\n",
    "        var = tf.get_variable(name, shape, initializer=initializer, dtype=dtype)\n",
    "    return var\n",
    "\n",
    "def variable_with_weight_decay(name, shape, stddev, wd):\n",
    "    dtype = tf.float16 if config.use_float16 else tf.float32\n",
    "    var = variable_on_gpu(\n",
    "        name,\n",
    "        shape,\n",
    "        tf.truncated_normal_initializer(stddev=stddev, dtype=dtype))\n",
    "    if wd is not None:\n",
    "        weight_decay = tf.multiply(tf.nn.l2_loss(var), wd, name='weight_loss')\n",
    "        tf.add_to_collection('losses', weight_decay)\n",
    "    return var\n",
    "\n",
    "layer_sizes = [3*32*32, 100, 100, 100, 10]\n",
    "w1_initial = np.random.normal(loc=0, scale=1, \n",
    "                              size = (layer_sizes[0], layer_sizes[1])).astype(np.float32)\n",
    "w2_initial = np.random.normal(loc=0, scale=1,\n",
    "                              size = (layer_sizes[1], layer_sizes[2])).astype(np.float32)\n",
    "w3_initial = np.random.normal(loc=0, scale=1,\n",
    "                              size = (layer_sizes[2], layer_sizes[3])).astype(np.float32)\n",
    "w4_initial = np.random.normal(loc=0, scale=1, \n",
    "                              size = (layer_sizes[3], layer_sizes[4])).astype(np.float32)\n",
    "\n",
    "\n",
    "# w1_initial = np.random.rand(layer_sizes[0], layer_sizes[1]).astype(np.float32)\n",
    "# w2_initial = np.random.rand(layer_sizes[1], layer_sizes[2]).astype(np.float32)\n",
    "# w3_initial = np.random.rand(layer_sizes[2], layer_sizes[3]).astype(np.float32)\n",
    "# w4_initial = np.random.rand(layer_sizes[3], layer_sizes[4]).astype(np.float32)"
   ]
  },
  {
   "cell_type": "code",
   "execution_count": 8,
   "metadata": {
    "collapsed": false,
    "deletable": true,
    "editable": true
   },
   "outputs": [],
   "source": [
    "def build_graph(is_using_BN = True):\n",
    "    # Placeholders\n",
    "    dtype = tf.float16 if config.use_float16 else tf.float32\n",
    "    y = tf.placeholder(tf.int32)\n",
    "    x = tf.placeholder(tf.float32, shape=[None, layer_sizes[0]])\n",
    "    is_training = tf.placeholder(tf.bool)\n",
    "    global_step = tf.Variable(0, trainable=False)\n",
    "    # Layer 1\n",
    "    with tf.variable_scope('layer1') as scope:\n",
    "        w1 = tf.Variable(w1_initial)\n",
    "        z1 = tf.matmul(x, w1)\n",
    "        if is_using_BN:\n",
    "            z1 = batch_norm_wrapper(z1, is_training, global_step)\n",
    "        else:\n",
    "            b1 = tf.Variable(tf.zeros([layer_sizes[1]]))\n",
    "            z1 = tf.nn.bias_add(z1, b1)\n",
    "        o1 = tf.sigmoid(z1)\n",
    "    \n",
    "    # Layer 2\n",
    "    with tf.variable_scope('layer2') as scope:\n",
    "        w2 = tf.Variable(w2_initial)\n",
    "        z2 = tf.matmul(o1, w2)\n",
    "        if is_using_BN:\n",
    "            z2 = batch_norm_wrapper(z2, is_training, global_step)\n",
    "        else:\n",
    "            b2 = tf.Variable(tf.zeros([layer_sizes[2]]))\n",
    "            z2 = tf.nn.bias_add(z2, b2)\n",
    "        o2 = tf.sigmoid(z2)\n",
    "    \n",
    "    # Layer 3\n",
    "    with tf.variable_scope('layer3') as scope:\n",
    "        w3 = tf.Variable(w3_initial, name='w3')\n",
    "        z3 = tf.matmul(o2, w3)\n",
    "        if is_using_BN:\n",
    "            z3 = batch_norm_wrapper(z3, is_training, global_step)\n",
    "        else:\n",
    "            b3 = tf.Variable(tf.zeros([layer_sizes[3]]))\n",
    "            z3 = tf.nn.bias_add(z3, b3)\n",
    "        o3 = tf.sigmoid(z3)\n",
    "        \n",
    "    \n",
    "    # Softmax        \n",
    "    with tf.variable_scope('softmax') as scope:\n",
    "        w4 = tf.Variable(w4_initial)\n",
    "        b4 = tf.Variable(tf.zeros([layer_sizes[-1]]))\n",
    "        o4 = y_out = tf.nn.bias_add(tf.matmul(o3, w4), b4)\n",
    "\n",
    "    # Loss, Optimizer and Predictions\n",
    "    cross_entropy = tf.nn.sparse_softmax_cross_entropy_with_logits(\n",
    "        labels=y, logits=y_out, name='cross_entropy')\n",
    "    \n",
    "    tf.add_to_collection('losses', tf.reduce_mean(cross_entropy))\n",
    "    total_loss = tf.add_n(tf.get_collection('losses'), name='total_loss')\n",
    "    \n",
    "    trainer = tf.train.GradientDescentOptimizer(learning_rate = config.learning_rate).minimize(total_loss, global_step = global_step)\n",
    "\n",
    "    correct_prediction = tf.equal(tf.cast(tf.arg_max(y_out, 1), tf.int32), y)\n",
    "    acc = tf.reduce_mean(tf.cast(correct_prediction, tf.float32))\n",
    "    \n",
    "    return (x, y, is_training), trainer, acc, total_loss, y_out, tf.train.Saver()"
   ]
  },
  {
   "cell_type": "code",
   "execution_count": 12,
   "metadata": {
    "collapsed": false,
    "deletable": true,
    "editable": true
   },
   "outputs": [
    {
     "name": "stderr",
     "output_type": "stream",
     "text": [
      "  2%|█▏                                                                        | 3227/200000 [01:22<1:23:58, 39.05it/s]"
     ]
    }
   ],
   "source": [
    "def train(is_using_BN = True,\n",
    "          is_continue = False,\n",
    "          model_name = None,\n",
    "          current_step = 0,\n",
    "          max_steps = 200000,\n",
    "          eval_interval = 500,\n",
    "          save_interval = 50000):\n",
    "    \n",
    "    graph = tf.Graph()\n",
    "    with graph.as_default():\n",
    "        (x_train, y_train, is_training), trainer, accuracy, loss, y_out, saver = build_graph(is_using_BN)\n",
    "    \n",
    "    if is_continue:\n",
    "        \"\"\"load something\"\"\"\n",
    "        f = open(os.path.join(config.store_path, \"losses.bin\"), \"rb\")\n",
    "        losses = np.fromfile(f, dtype = np.float32)\n",
    "        f.close()\n",
    "        f = open(os.path.join(config.store_path, \"train_acc.bin\"), \"rb\")\n",
    "        train_acc = np.fromfile(f, dtype = np.float32)\n",
    "        f.close()\n",
    "        f = open(os.path.join(config.store_path, \"test_acc.bin\"), \"rb\")\n",
    "        test_acc = np.fromfile(f, dtype = np.float32)\n",
    "        f.close()\n",
    "    else:\n",
    "        losses, train_acc, test_acc = np.array([], dtype = np.float32), np.array([], dtype = np.float32), np.array([], dtype = np.float32)\n",
    "    \n",
    "    def evaluate(sess, num_examples = 5000, is_on_training_set = True): \n",
    "        accs = []\n",
    "        if is_on_training_set:\n",
    "            prem = np.random.permutation(dataset.num_train_images)\n",
    "            x = dataset.x_train[prem[:num_examples]]\n",
    "            y = dataset.y_train[prem[:num_examples]]\n",
    "        else:\n",
    "            x = dataset.x_test[:num_examples]\n",
    "            y = dataset.y_test[:num_examples]\n",
    "        \n",
    "        for i in range(0, num_examples, 500):\n",
    "            res = sess.run([accuracy],\n",
    "                           feed_dict = {x_train: x[i : i + 500],\n",
    "                                        y_train: y[i : i + 500], \n",
    "                                        is_training: False})\n",
    "            accs.append(res[0])\n",
    "        \n",
    "        return sum(accs) / len(accs)\n",
    " \n",
    "    def save(arr, name):\n",
    "        f = open(os.path.join(config.store_path, name), \"wb\")\n",
    "        arr.tofile(f)\n",
    "        f.close()\n",
    "        \n",
    "    with tf.Session(graph = graph) as sess:\n",
    "        if is_continue:\n",
    "            if model_name is None:\n",
    "                raise ValueError('Need the name of model')\n",
    "            saver = tf.train.import_meta_graph(os.path.join(config.store_path, model_name + '.meta'))\n",
    "            saver.restore(sess, os.path.join(config.store_path, model_name))\n",
    "        else:\n",
    "            sess.run(tf.global_variables_initializer())\n",
    "            \n",
    "        # -----------------------------------------------------------------------------------------\n",
    "        # training\n",
    "        for i in tqdm.tqdm(range(current_step + 1, max_steps + 1)):\n",
    "            batch = dataset.get_next_batch()\n",
    "            _,l = sess.run([trainer, loss], feed_dict = {x_train : batch[0], y_train : batch[1], is_training : True})\n",
    "            if i % save_interval == 0:\n",
    "                saved_model = saver.save(sess, config.store_path + 'model.ckpt', i)\n",
    "                save(losses, 'losses.bin')\n",
    "                save(train_acc, 'train_acc.bin')\n",
    "                save(test_acc, 'test_acc.bin')\n",
    "                \n",
    "            \n",
    "            if i % eval_interval == 0:\n",
    "                losses = np.append(losses, l)\n",
    "                test_acc = np.append(test_acc, evaluate(sess, 10000, False)).astype(np.float32)\n",
    "                train_acc = np.append(train_acc, evaluate(sess)).astype(np.float32)\n",
    "                \n",
    "                displayer.clear_output()\n",
    "                print('test acc: ', test_acc[-1])\n",
    "                print('train acc: ', train_acc[-1])\n",
    "               \n",
    "                plt.figure(1)\n",
    "                plt.plot(range(0, i, eval_interval), train_acc, 'red', range(0, i, eval_interval), test_acc, 'blue')\n",
    "                plt.figure(2)\n",
    "                plt.plot(range(0, i, eval_interval), losses)                 \n",
    "                plt.show()\n",
    "                \n",
    "        \n",
    "    return losses, train_acc, test_acc"
   ]
  },
  {
   "cell_type": "code",
   "execution_count": 13,
   "metadata": {
    "collapsed": false,
    "deletable": true,
    "editable": true
   },
   "outputs": [
    {
     "name": "stdout",
     "output_type": "stream",
     "text": [
      "test acc:  0.134\n",
      "train acc:  0.1328\n"
     ]
    },
    {
     "data": {
      "image/png": "[encoded data removed]",
      "text/plain": [
       "<matplotlib.figure.Figure at 0x1e9d65b67b8>"
      ]
     },
     "metadata": {},
     "output_type": "display_data"
    },
    {
     "data": {
      "image/png": "[encoded data removed]",
      "text/plain": [
       "<matplotlib.figure.Figure at 0x1e9d65dbfd0>"
      ]
     },
     "metadata": {},
     "output_type": "display_data"
    },
    {
     "name": "stderr",
     "output_type": "stream",
     "text": [
      "100%|██████████████████████████████████████████████████████████████████████████████| 2000/2000 [00:39<00:00, 50.10it/s]\n"
     ]
    }
   ],
   "source": [
    "config.learning_rate = 2.0\n",
    "config.store_path = \"../../models/ANN/cifar10/withoutBN/lr 2.0\"\n",
    "losses, train_acc, test_acc = train(is_using_BN = False)"
   ]
  },
  {
   "cell_type": "code",
   "execution_count": 15,
   "metadata": {
    "collapsed": false,
    "deletable": true,
    "editable": true
   },
   "outputs": [
    {
     "name": "stdout",
     "output_type": "stream",
     "text": [
      "test acc:  0.2642\n",
      "train acc:  0.2706\n"
     ]
    },
    {
     "data": {
      "image/png": "[encoded data removed]",
      "text/plain": [
       "<matplotlib.figure.Figure at 0x1e9d63d8080>"
      ]
     },
     "metadata": {},
     "output_type": "display_data"
    },
    {
     "data": {
      "image/png": "[encoded data removed]",
      "text/plain": [
       "<matplotlib.figure.Figure at 0x1e9d6961c18>"
      ]
     },
     "metadata": {},
     "output_type": "display_data"
    },
    {
     "name": "stderr",
     "output_type": "stream",
     "text": [
      "100%|██████████████████████████████████████████████████████████████████████████████| 2000/2000 [00:43<00:00, 11.66it/s]\n"
     ]
    }
   ],
   "source": [
    "config.learning_rate = 2.0\n",
    "config.store_path = \"../../models/ANN/cifar10/withBN/\"\n",
    "losses, train_acc, test_acc = train(is_using_BN = True)"
   ]
  }
 ],
 "metadata": {
  "anaconda-cloud": {},
  "kernelspec": {
   "display_name": "Python [tensorflow]",
   "language": "python",
   "name": "Python [tensorflow]"
  },
  "language_info": {
   "codemirror_mode": {
    "name": "ipython",
    "version": 3
   },
   "file_extension": ".py",
   "mimetype": "text/x-python",
   "name": "python",
   "nbconvert_exporter": "python",
   "pygments_lexer": "ipython3",
   "version": "3.5.3"
  }
 },
 "nbformat": 4,
 "nbformat_minor": 2
}
